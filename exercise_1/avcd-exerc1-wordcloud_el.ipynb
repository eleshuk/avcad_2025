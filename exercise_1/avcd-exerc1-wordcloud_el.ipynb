{
 "cells": [
  {
   "attachments": {},
   "cell_type": "markdown",
   "metadata": {},
   "source": [
    "# Analysis and Visualization of Complex Data\n",
    "---\n",
    "## Exercise 01 - Creating a word cloud in Python\n",
    "\n",
    "In this exercise you will produce your personal word cloud using python\n",
    "\n",
    "First we will need to install Wordcloud package (someone already did the most difficult job - a function that produces a word cloud - so let's take advantage of that!). Go to the terminal and:\n",
    "\n",
    "```\n",
    "$ git clone https://github.com/amueller/word_cloud.git\n",
    "$ cd word_cloud\n",
    "$ pip install .\n",
    "```\n",
    "\n",
    "Or more simply:\n",
    "```\n",
    "$ git install wordcloud\n",
    "```\n",
    "\n",
    "Import required packages"
   ]
  },
  {
   "cell_type": "code",
   "execution_count": 3,
   "metadata": {},
   "outputs": [],
   "source": [
    "import pandas as pd\n",
    "import numpy as np\n",
    "import os # provides functions for interacting with the operating system\n",
    "import matplotlib.pyplot as plt\n",
    "from wordcloud import WordCloud, STOPWORDS"
   ]
  },
  {
   "attachments": {},
   "cell_type": "markdown",
   "metadata": {},
   "source": [
    "Let us first use an example from a Wine review database from www.Kaggle.com, named [\"Wine Reviews\"](https://www.kaggle.com/zynicide/wine-reviews/data). You can find the csv dataset in the class [github repository](https://github.com/isa-ulisboa/greends-avcd/tree/main/Examples)\n",
    "\n",
    "You may clone it to your local machine.\n",
    "\n",
    "First check your current directory:"
   ]
  },
  {
   "cell_type": "code",
   "execution_count": 4,
   "metadata": {},
   "outputs": [
    {
     "data": {
      "text/plain": [
       "'/Users/eleshuk/Documents/GitHub/avcad_2025'"
      ]
     },
     "execution_count": 4,
     "metadata": {},
     "output_type": "execute_result"
    }
   ],
   "source": [
    "os.getcwd()"
   ]
  },
  {
   "attachments": {},
   "cell_type": "markdown",
   "metadata": {},
   "source": [
    "You may change the directory to which you want to clone the github repository (change path accordingly):"
   ]
  },
  {
   "cell_type": "code",
   "execution_count": 6,
   "metadata": {},
   "outputs": [
    {
     "data": {
      "text/plain": [
       "'/Users/eleshuk/Documents/GitHub/avcad_2025'"
      ]
     },
     "execution_count": 6,
     "metadata": {},
     "output_type": "execute_result"
    }
   ],
   "source": [
    "os.chdir(\"/Users/eleshuk/Documents/GitHub/avcad_2025/\")\n",
    "os.getcwd()"
   ]
  },
  {
   "attachments": {},
   "cell_type": "markdown",
   "metadata": {},
   "source": [
    "Now you clone the github repository to your local machine:\n",
    "\n",
    "```\n",
    "$ git clone https://github.com/isa-ulisboa/greends-avcd-2024.git\n",
    "```\n",
    "\n",
    "Now you can import the wine review dataset:"
   ]
  },
  {
   "cell_type": "code",
   "execution_count": 8,
   "metadata": {},
   "outputs": [],
   "source": [
    "df = pd.read_csv(\"examples/winemag-data-130k-v2.csv\", index_col=0)"
   ]
  },
  {
   "attachments": {},
   "cell_type": "markdown",
   "metadata": {},
   "source": [
    "Check table (first 5 rows):"
   ]
  },
  {
   "cell_type": "code",
   "execution_count": null,
   "metadata": {},
   "outputs": [],
   "source": [
    "df.head()"
   ]
  },
  {
   "attachments": {},
   "cell_type": "markdown",
   "metadata": {},
   "source": [
    "Table summary:"
   ]
  },
  {
   "cell_type": "code",
   "execution_count": 12,
   "metadata": {},
   "outputs": [
    {
     "name": "stdout",
     "output_type": "stream",
     "text": [
      "There are 129971 observations and 13 features in this dataset. \n",
      "\n"
     ]
    }
   ],
   "source": [
    "print(\"There are {} observations and {} features in this dataset. \\n\".format(df.shape[0],df.shape[1]))"
   ]
  },
  {
   "attachments": {},
   "cell_type": "markdown",
   "metadata": {},
   "source": [
    "Check only part of the table (\"country\", \"description\" and \"points\")"
   ]
  },
  {
   "cell_type": "code",
   "execution_count": null,
   "metadata": {},
   "outputs": [],
   "source": [
    "df[[\"country\", \"description\",\"points\"]].head()"
   ]
  },
  {
   "attachments": {},
   "cell_type": "markdown",
   "metadata": {},
   "source": [
    "Now let us run the wordcloud function with the imported data.\n",
    "\n",
    "First it might be helpfull to get some info about wordcloud package:"
   ]
  },
  {
   "cell_type": "code",
   "execution_count": null,
   "metadata": {},
   "outputs": [],
   "source": [
    "?WordCloud"
   ]
  },
  {
   "attachments": {},
   "cell_type": "markdown",
   "metadata": {},
   "source": [
    "Combine all wine reviews into one big text and create a big fat cloud to see which characteristics are most common in these wines."
   ]
  },
  {
   "cell_type": "code",
   "execution_count": null,
   "metadata": {},
   "outputs": [],
   "source": [
    "text = \" \".join(review for review in df.description)\n",
    "print (\"There are {} words in the combination of all review.\".format(len(text)))"
   ]
  },
  {
   "attachments": {},
   "cell_type": "markdown",
   "metadata": {},
   "source": [
    "Create stopword list (words that you don't want to include - make a test first and choose words accordingly):"
   ]
  },
  {
   "cell_type": "code",
   "execution_count": 13,
   "metadata": {},
   "outputs": [],
   "source": [
    "stopwords = set(STOPWORDS)\n",
    "stopwords.update([\"drink\", \"now\", \"wine\", \"flavor\", \"flavors\"])"
   ]
  },
  {
   "attachments": {},
   "cell_type": "markdown",
   "metadata": {},
   "source": [
    "Generate and display a word cloud image"
   ]
  },
  {
   "cell_type": "code",
   "execution_count": null,
   "metadata": {},
   "outputs": [],
   "source": [
    "wordcloud = WordCloud(max_font_size=100, max_words=100, background_color=\"white\").generate(text)\n",
    "plt.figure()\n",
    "plt.imshow(wordcloud, interpolation=\"bilinear\")\n",
    "plt.axis(\"off\")\n",
    "plt.show()"
   ]
  },
  {
   "attachments": {},
   "cell_type": "markdown",
   "metadata": {},
   "source": [
    "NOTE: You've probably noticed the argument interpolation=\"bilinear\" in the plt.imshow(). This is to make the displayed image appear more smoothly. For more information about the choice, here is a helpful link to explore more about this choice."
   ]
  },
  {
   "attachments": {},
   "cell_type": "markdown",
   "metadata": {},
   "source": [
    "# Create your personal word cloud"
   ]
  },
  {
   "attachments": {},
   "cell_type": "markdown",
   "metadata": {},
   "source": [
    "In this exercise you will adapt the code below using the keywords that best describe your interests. For that you may use the text from your CV, a motivation letter or simply a list keywords. First create and save a txt file (no commas or semicolons) containing your text.\n",
    "\n",
    "I used a text file with a list of my publications (Note: the text was converted to csv and all punctuation marks were converted to \"space\"."
   ]
  },
  {
   "cell_type": "code",
   "execution_count": null,
   "metadata": {},
   "outputs": [],
   "source": [
    "text = open(\"C:/Users/psegurado/Documents/Aulas/Mestrado_Data_Science/Aulas_AVCAD_2023/greends-avdc-exercises/data/CV_PSegurado_EN_March2021.txt\").read()\n",
    "print(text)"
   ]
  },
  {
   "attachments": {},
   "cell_type": "markdown",
   "metadata": {},
   "source": [
    "Create stopword list (words that you don't want to include - make a test first and choose words accordingly):"
   ]
  },
  {
   "cell_type": "code",
   "execution_count": 19,
   "metadata": {},
   "outputs": [],
   "source": [
    "stopwords = set(STOPWORDS)\n",
    "stopwords.update([\"Segurado\", \"Ferreira\", \"Aguiar\", \"Branco\", \"Schinegger\", \"Borja\", \"Reino\", \"Haidvogl\", \"Hermoso\", \"Filipe\", \"doi\", \"Araújo\", \"Teixeira\", \"Godinho\", \"Carreira\", \"dx\", \"based\", \"Total environment\", \"Oliveira\", \"Santos\", \"Almeida\", \"Catry\", \"Duarte\", \"Beja\", \"Rebelo\", \"Neves\", \"Pereira\", \"Pont\", \"Costa\", \"Feld\", \"Journal\", \"Using\", \"Research\", \"scitotenv\", \"J\", \"P\", \"G\", \"M\", \"V\", \"J\",\"F\", \"T\", \"N\" ,\"C\", \"B\", \"S\", \"W\", \"de\", \"https\", \"D\", \"L\", \"E\", \"Science\", \"org\", \"Total\", \"Environment\"])"
   ]
  },
  {
   "cell_type": "markdown",
   "metadata": {},
   "source": [
    "#### Generate and display a word cloud image"
   ]
  },
  {
   "cell_type": "code",
   "execution_count": null,
   "metadata": {},
   "outputs": [],
   "source": [
    "# Generate a word cloud image\n",
    "wordcloud = WordCloud(stopwords=stopwords).generate(text)\n",
    "\n",
    "# Display the generated image:\n",
    "# the matplotlib way:\n",
    "plt.imshow(wordcloud, interpolation='bilinear')\n",
    "plt.axis(\"off\")\n",
    "plt.show()"
   ]
  },
  {
   "attachments": {},
   "cell_type": "markdown",
   "metadata": {},
   "source": [
    "NOTE: You've probably noticed the argument interpolation=\"bilinear\" in the plt.imshow(). This is to make the displayed image appear more smoothly. For more information about the choice, here is a helpful link to explore more about this choice."
   ]
  },
  {
   "attachments": {},
   "cell_type": "markdown",
   "metadata": {},
   "source": [
    "Set max_font_size, change the maximum number of word and lighten the background:"
   ]
  },
  {
   "cell_type": "code",
   "execution_count": null,
   "metadata": {},
   "outputs": [],
   "source": [
    "wordcloud = WordCloud(stopwords=stopwords, max_font_size=70, background_color=\"white\", width=600, height=400,).generate(text)\n",
    "plt.figure()\n",
    "plt.imshow(wordcloud, interpolation='bilinear')\n",
    "plt.axis(\"off\")\n",
    "plt.show()"
   ]
  },
  {
   "attachments": {},
   "cell_type": "markdown",
   "metadata": {},
   "source": [
    "Save the image in the img folder:"
   ]
  },
  {
   "cell_type": "code",
   "execution_count": 26,
   "metadata": {},
   "outputs": [
    {
     "data": {
      "text/plain": [
       "<wordcloud.wordcloud.WordCloud at 0x1fea73d0cd0>"
      ]
     },
     "execution_count": 26,
     "metadata": {},
     "output_type": "execute_result"
    }
   ],
   "source": [
    "wordcloud.to_file(\"wordcloud_PS.png\")"
   ]
  },
  {
   "attachments": {},
   "cell_type": "markdown",
   "metadata": {},
   "source": [
    "## Plotting word clouds using shapes\n",
    "\n",
    "You may also choose to plot your keywords within a given shape (e.g. that are related with your interests).\n",
    "\n",
    "Firt import the \"image\" module of the Python Imaging Library (PIL):"
   ]
  },
  {
   "cell_type": "code",
   "execution_count": 23,
   "metadata": {},
   "outputs": [],
   "source": [
    "from PIL import Image"
   ]
  },
  {
   "attachments": {},
   "cell_type": "markdown",
   "metadata": {},
   "source": [
    "Now you will need an image (e.g. in png format) in which the background has the value 255. Copy into your current directory. You may check it this way:"
   ]
  },
  {
   "cell_type": "code",
   "execution_count": null,
   "metadata": {},
   "outputs": [],
   "source": [
    "turtle_mask = np.array(Image.open(\"C:/Users/psegurado/Documents/Aulas/Mestrado_Data_Science/Aulas_AVCAD_2023/greends-avdc-exercises/turtle.png\"))\n",
    "turtle_mask"
   ]
  },
  {
   "attachments": {},
   "cell_type": "markdown",
   "metadata": {},
   "source": [
    "Check mask"
   ]
  },
  {
   "cell_type": "code",
   "execution_count": null,
   "metadata": {},
   "outputs": [],
   "source": [
    "turtle_mask = np.array(Image.open(\"C:/Users/psegurado/Documents/Aulas/Mestrado_Data_Science/Aulas_AVCAD_2023/greends-avdc-exercises/turtle.png\"))\n",
    "#turtle_mask[230:250, 240:250]\n",
    "plt.imshow(turtle_mask)\n",
    "plt.axis(\"off\")\n",
    "plt.show()"
   ]
  },
  {
   "attachments": {},
   "cell_type": "markdown",
   "metadata": {},
   "source": [
    "And finally you may create, export and print the wordcloud"
   ]
  },
  {
   "cell_type": "code",
   "execution_count": null,
   "metadata": {},
   "outputs": [],
   "source": [
    "wc = WordCloud(background_color=\"white\",\n",
    "                  max_words=1000, \n",
    "                  mask=turtle_mask,\n",
    "                  stopwords=stopwords,\n",
    "                  contour_width=2,\n",
    "                  repeat=True,\n",
    "                  max_font_size=50,\n",
    "                  contour_color='grey')\n",
    "\n",
    "# Generate a wordcloud\n",
    "wc.generate(text)\n",
    "\n",
    "# store to file\n",
    "wc.to_file(\"turtle_wordcloud.png\")\n",
    "\n",
    "# show\n",
    "plt.figure(figsize=[10,5])\n",
    "plt.imshow(wc, interpolation='bilinear')\n",
    "plt.axis(\"off\")\n",
    "plt.show()"
   ]
  },
  {
   "attachments": {},
   "cell_type": "markdown",
   "metadata": {},
   "source": [
    "### Questions\n",
    "- The world cloud you just produced is based on how many variables? \n",
    "\n",
    "- Which is the type of each variable in your word cloud?"
   ]
  },
  {
   "attachments": {},
   "cell_type": "markdown",
   "metadata": {},
   "source": [
    "# References\n",
    "[Generating WordClouds in Python Tutorial](https://www.datacamp.com/tutorial/wordcloud-python)\n",
    "\n",
    "[Python Wordcloud Tutorial](https://python-course.eu/applications-python/python-wordcloud-tutorial.php)\n",
    "\n",
    "[How to create a word cloud in Python?](https://www.projectpro.io/recipes/create-word-cloud-python)"
   ]
  }
 ],
 "metadata": {
  "kernelspec": {
   "display_name": "Python 3 (ipykernel)",
   "language": "python",
   "name": "python3"
  },
  "language_info": {
   "codemirror_mode": {
    "name": "ipython",
    "version": 3
   },
   "file_extension": ".py",
   "mimetype": "text/x-python",
   "name": "python",
   "nbconvert_exporter": "python",
   "pygments_lexer": "ipython3",
   "version": "3.12.6"
  },
  "vscode": {
   "interpreter": {
    "hash": "f370ef58eb856835018c6f17435ba4383e967280d683e004a318f3d8dd5b0859"
   }
  }
 },
 "nbformat": 4,
 "nbformat_minor": 4
}
